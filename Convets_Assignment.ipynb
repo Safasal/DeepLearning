{
  "nbformat": 4,
  "nbformat_minor": 0,
  "metadata": {
    "accelerator": "GPU",
    "colab": {
      "name": "Convets_Assignment.ipynb",
      "provenance": [],
      "collapsed_sections": []
    },
    "kernelspec": {
      "name": "python3",
      "display_name": "Python 3"
    }
  },
  "cells": [
    {
      "cell_type": "code",
      "metadata": {
        "id": "oOmHx3THFoow"
      },
      "source": [
        "from IPython.core.display import display, HTML\n",
        "display(HTML(\"<style>.container { width:95% !important; }</style>\"))"
      ],
      "execution_count": null,
      "outputs": []
    },
    {
      "cell_type": "markdown",
      "metadata": {
        "id": "6tNWtWOTFopU"
      },
      "source": [
        "This classification assignment will use the CIFAR 10 library which is part of Keras. https://www.cs.toronto.edu/~kriz/cifar.html CIFAR 10 is a collection of 50,000 training and 10,000 test images of 10 differnt classes of objects.  Using convolutional neural networks (convets, or CNN) to get the model accuracy above 80%"
      ]
    },
    {
      "cell_type": "code",
      "metadata": {
        "id": "1AG-iMB8P3DZ"
      },
      "source": [
        "# Load the libraries"
      ],
      "execution_count": null,
      "outputs": []
    },
    {
      "cell_type": "code",
      "metadata": {
        "id": "5Efu6_zaQKtQ"
      },
      "source": [
        "# Load the CIFAR 10 library from Keras"
      ],
      "execution_count": null,
      "outputs": []
    },
    {
      "cell_type": "code",
      "metadata": {
        "id": "_U8U7BgPWgbO"
      },
      "source": [
        "# View a few of the images"
      ],
      "execution_count": null,
      "outputs": []
    },
    {
      "cell_type": "code",
      "metadata": {
        "id": "cEeckA5ESIMB"
      },
      "source": [
        "# Prepare the train and test images for a CNN"
      ],
      "execution_count": null,
      "outputs": []
    },
    {
      "cell_type": "code",
      "metadata": {
        "id": "zeczsZHUVDQx"
      },
      "source": [
        "# Prepare the train and test data for a CNN"
      ],
      "execution_count": null,
      "outputs": []
    },
    {
      "cell_type": "code",
      "metadata": {
        "id": "Lphyc_XgFoqB"
      },
      "source": [
        "# Split the data into a train and validation block"
      ],
      "execution_count": null,
      "outputs": []
    },
    {
      "cell_type": "markdown",
      "metadata": {
        "id": "JS02L0lPtkA1"
      },
      "source": [
        "### Review literature for CNN architectures and build at least 3 different architectures with varying depths, kernels, and normalization functions.  Be sure to split your data into a validation block and monitor loss and accuracy with graphs.  Build, compile, monitor, validate, and test each CNN architecture in one cell.  Try to get one of your CNN architectures to have a test accauracy above 80%.  You may use TensorBoard if you want.\n",
        "      \n",
        "#### Here are some links to get you started on reviewing CNN architectures.\n",
        "#### https://www.kaggle.com/cdeotte/how-to-choose-cnn-architecture-mnist\n",
        "#### https://medium.com/datadriveninvestor/five-powerful-cnn-architectures-b939c9ddd57b "
      ]
    },
    {
      "cell_type": "code",
      "metadata": {
        "id": "VjpZmFG50pcu"
      },
      "source": [
        ""
      ],
      "execution_count": null,
      "outputs": []
    }
  ]
}